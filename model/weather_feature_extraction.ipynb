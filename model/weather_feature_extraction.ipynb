{
 "cells": [
  {
   "cell_type": "code",
   "execution_count": 42,
   "metadata": {},
   "outputs": [],
   "source": [
    "import pandas as pd\n",
    "import numpy as np\n",
    "\n",
    "df = pd.read_csv(\"\\slipskip\\data\\weather_data\\wether_data_trimmed_helsinki_kumpula (2).csv\").drop(columns=[\"Unnamed: 0\"])\n",
    "df[\"rain_sum_7d\"] = df[\"rainfall_mm\"].replace(-1, 0).shift(1).rolling(7).sum().round(2)\n",
    "df[\"snow_depth_cm\"] = df[\"snow_depth_cm\"].replace(0, np.nan).ffill()\n",
    "df[\"snow_var_7d\"] = df[\"snow_depth_cm\"].replace(-1, 0).shift(1).rolling(7).var().round(2)\n",
    "df[\"min_temp_2d\"] = df[\"min_temp\"].shift(1).rolling(2).min().round(2)\n",
    "df[\"max_temp_2d\"] = df[\"min_temp\"].shift(1).rolling(2).max().round(2)\n",
    "df[\"is_neg\"] = df[\"min_temp\"]<0\n",
    "df[\"is_neg\"] = df[\"is_neg\"].astype(int).shift(1)\n",
    "df[\"neg_rate_7d\"] = df[\"is_neg\"].shift(1).rolling(7).mean().round(2)\n",
    "df = df.bfill()\n",
    "\n",
    "features = df.drop(columns=['rainfall_mm', 'snow_depth_cm', 'air_temp', 'max_temp',\n",
    "       'min_temp', 'min_ground_temp', 'is_neg'])\n",
    "\n",
    "features.to_csv('features.csv', index=False)\n",
    "\n",
    "# print(features)"
   ]
  }
 ],
 "metadata": {
  "kernelspec": {
   "display_name": "Python 3.10.5 64-bit",
   "language": "python",
   "name": "python3"
  },
  "language_info": {
   "codemirror_mode": {
    "name": "ipython",
    "version": 3
   },
   "file_extension": ".py",
   "mimetype": "text/x-python",
   "name": "python",
   "nbconvert_exporter": "python",
   "pygments_lexer": "ipython3",
   "version": "3.10.5"
  },
  "orig_nbformat": 4,
  "vscode": {
   "interpreter": {
    "hash": "fc8430a40fbc827d38a9eb7a33e6235b87f482008d42fc8d130ebcfb90a224a0"
   }
  }
 },
 "nbformat": 4,
 "nbformat_minor": 2
}
