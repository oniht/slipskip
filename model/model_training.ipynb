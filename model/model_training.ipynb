{
 "cells": [
  {
   "cell_type": "code",
   "execution_count": 39,
   "metadata": {},
   "outputs": [],
   "source": [
    "from sklearn.model_selection import train_test_split\n",
    "from sklearn.linear_model import LogisticRegression\n",
    "import numpy as np\n",
    "import pandas as pd\n",
    "\n",
    "features = pd.read_csv(\"/slipskip/model/features.csv\", index_col=\"date\")#.drop(columns=['date'])\n",
    "labels = pd.read_csv(\"/slipskip/data/warning_data/slip_warnings_preprocessed.csv\", index_col=\"date\")#.drop(columns=['date'])\n",
    "df = labels.join(features).ffill()\n",
    "df.index = pd.to_datetime(df.index)\n",
    "df2 = df[~df.index.month.isin([5, 6, 7, 8, 9])]"
   ]
  },
  {
   "cell_type": "code",
   "execution_count": 43,
   "metadata": {},
   "outputs": [
    {
     "name": "stdout",
     "output_type": "stream",
     "text": [
      "Logistic regression with all data.\n",
      "Score is: 0.96\n",
      "With 1068 test samples, this means 43.0 false predictions.\n"
     ]
    }
   ],
   "source": [
    "y = df[\"value\"].to_numpy()\n",
    "X = df.drop(columns=[\"value\"]).to_numpy()\n",
    "\n",
    "X_train, X_test, y_train, y_test = train_test_split(X, y, test_size=0.33, random_state=42)\n",
    "\n",
    "clf = LogisticRegression(random_state=0).fit(X_train, y_train)\n",
    "score = clf.score(X_test, y_test).round(3)\n",
    "print(\"Logistic regression with all data.\")\n",
    "print(\"Score is:\", score)\n",
    "\n",
    "print(\"With\", y_test.shape[0], \"test samples, this means\", ((1-score)*y_test.shape[0]).round(0), \"false predictions.\")"
   ]
  },
  {
   "cell_type": "code",
   "execution_count": 44,
   "metadata": {},
   "outputs": [
    {
     "name": "stdout",
     "output_type": "stream",
     "text": [
      "Logistic regression with May-September removed from data.\n",
      "Score is: 0.94\n",
      "With 616 test samples, this means 37.0 false predictions.\n"
     ]
    }
   ],
   "source": [
    "y = df2[\"value\"].to_numpy()\n",
    "X = df2.drop(columns=[\"value\"]).to_numpy()\n",
    "\n",
    "X_train, X_test, y_train, y_test = train_test_split(X, y, test_size=0.33, random_state=42)\n",
    "\n",
    "clf = LogisticRegression(random_state=0).fit(X_train, y_train)\n",
    "score = clf.score(X_test, y_test).round(3)\n",
    "print(\"Logistic regression with May-September removed from data.\")\n",
    "print(\"Score is:\", score)\n",
    "\n",
    "print(\"With\", y_test.shape[0], \"test samples, this means\", ((1-score)*y_test.shape[0]).round(0), \"false predictions.\")"
   ]
  }
 ],
 "metadata": {
  "kernelspec": {
   "display_name": "Python 3.10.5 64-bit",
   "language": "python",
   "name": "python3"
  },
  "language_info": {
   "codemirror_mode": {
    "name": "ipython",
    "version": 3
   },
   "file_extension": ".py",
   "mimetype": "text/x-python",
   "name": "python",
   "nbconvert_exporter": "python",
   "pygments_lexer": "ipython3",
   "version": "3.10.5"
  },
  "orig_nbformat": 4,
  "vscode": {
   "interpreter": {
    "hash": "fc8430a40fbc827d38a9eb7a33e6235b87f482008d42fc8d130ebcfb90a224a0"
   }
  }
 },
 "nbformat": 4,
 "nbformat_minor": 2
}
