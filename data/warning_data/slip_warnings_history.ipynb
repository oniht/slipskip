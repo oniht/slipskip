{
 "cells": [
  {
   "cell_type": "code",
   "execution_count": 2,
   "metadata": {},
   "outputs": [],
   "source": [
    "import requests\n",
    "import pandas as pd\n",
    "import datetime as dt\n",
    "\n",
    "x = requests.get('https://liukastumisvaroitus-api.beze.io/api/v1/warnings')\n",
    "df = pd.read_json(x.text, orient='records')\n",
    "df = df[df.city == 'Helsinki']\n",
    "df['date'] = df['created_at'].dt.date\n",
    "df['date'] = pd.to_datetime(df['date'])\n",
    "df = df[df.date >= '2013-11-24']\n",
    "df = df.drop(columns=['created_at', 'updated_at', 'id', 'city'])\n",
    "df['value'] = 1\n",
    "\n",
    "# start date 24.11.2013\n",
    "dates = pd.DataFrame({'date':pd.date_range(start='2013-11-24', end='2022-09-23')})\n",
    "#dates = pd.date_range(start='2013-11-24', end='2022-09-23')\n",
    "#data = dates.join(df, on='date')\n",
    "data = dates.merge(df, how='outer', left_on='date', right_on='date')\n",
    "data = data.fillna(0).sort_values('date')\n",
    "data.to_csv('slip_warnings_preprocessed.csv', index=False)\n"
   ]
  }
 ],
 "metadata": {
  "kernelspec": {
   "display_name": "Python 3.10.5 64-bit",
   "language": "python",
   "name": "python3"
  },
  "language_info": {
   "codemirror_mode": {
    "name": "ipython",
    "version": 3
   },
   "file_extension": ".py",
   "mimetype": "text/x-python",
   "name": "python",
   "nbconvert_exporter": "python",
   "pygments_lexer": "ipython3",
   "version": "3.10.5"
  },
  "orig_nbformat": 4,
  "vscode": {
   "interpreter": {
    "hash": "fc8430a40fbc827d38a9eb7a33e6235b87f482008d42fc8d130ebcfb90a224a0"
   }
  }
 },
 "nbformat": 4,
 "nbformat_minor": 2
}
