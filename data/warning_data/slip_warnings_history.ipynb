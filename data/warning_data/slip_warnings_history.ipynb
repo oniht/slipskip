{
 "cells": [
  {
   "cell_type": "code",
   "execution_count": 38,
   "metadata": {},
   "outputs": [
    {
     "name": "stdout",
     "output_type": "stream",
     "text": [
      "           date  value\n",
      "0    2013-11-24    0.0\n",
      "1    2013-11-25    0.0\n",
      "2    2013-11-26    0.0\n",
      "3    2013-11-27    0.0\n",
      "4    2013-11-28    0.0\n",
      "...         ...    ...\n",
      "3229 2022-09-19    0.0\n",
      "3230 2022-09-20    0.0\n",
      "3231 2022-09-21    0.0\n",
      "3232 2022-09-22    0.0\n",
      "3233 2022-09-23    0.0\n",
      "\n",
      "[3234 rows x 2 columns]\n"
     ]
    }
   ],
   "source": [
    "import requests\n",
    "import pandas as pd\n",
    "import datetime as dt\n",
    "\n",
    "x = requests.get('https://liukastumisvaroitus-api.beze.io/api/v1/warnings')\n",
    "df = pd.read_json(x.text, orient='records')\n",
    "df = df[df.city == 'Helsinki']\n",
    "df['date'] = df['created_at'].dt.date\n",
    "df['date'] = pd.to_datetime(df['date'])\n",
    "df = df[df.date >= '2013-11-24']\n",
    "df = df.drop(columns=['created_at', 'updated_at', 'id', 'city'])\n",
    "df['value'] = 1\n",
    "\n",
    "# start date 24.11.2013\n",
    "dates = pd.DataFrame({'date':pd.date_range(start='2013-11-24', end='2022-09-23')})\n",
    "#dates = pd.date_range(start='2013-11-24', end='2022-09-23')\n",
    "#data = dates.join(df, on='date')\n",
    "data = dates.merge(df, how='outer', left_on='date', right_on='date')\n",
    "data = data.fillna(0).sort_values('date')\n",
    "pd.data.to_csv('slip_warnings_preprocessed', index=False)\n"
   ]
  }
 ],
 "metadata": {
  "kernelspec": {
   "display_name": "Python 3.10.5 64-bit",
   "language": "python",
   "name": "python3"
  },
  "language_info": {
   "codemirror_mode": {
    "name": "ipython",
    "version": 3
   },
   "file_extension": ".py",
   "mimetype": "text/x-python",
   "name": "python",
   "nbconvert_exporter": "python",
   "pygments_lexer": "ipython3",
   "version": "3.10.5"
  },
  "orig_nbformat": 4,
  "vscode": {
   "interpreter": {
    "hash": "fc8430a40fbc827d38a9eb7a33e6235b87f482008d42fc8d130ebcfb90a224a0"
   }
  }
 },
 "nbformat": 4,
 "nbformat_minor": 2
}
